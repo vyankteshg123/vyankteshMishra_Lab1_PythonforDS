{
 "cells": [
  {
   "cell_type": "markdown",
   "id": "2c8f47d3",
   "metadata": {
    "id": "2c8f47d3"
   },
   "source": [
    "# Lab Session"
   ]
  },
  {
   "cell_type": "markdown",
   "id": "f637aba6",
   "metadata": {
    "id": "f637aba6"
   },
   "source": [
    "## <font color='blue'> Table Of Contents </font>\n",
    "- Problem Statement \n",
    "- Load required libraries\n",
    "- Connect to DB using mysql-connector-python package\n",
    "- Create database named `e_commerce`\n",
    "- Create tables and insert data into tables as specified in the question\n",
    "- Read all the questions and write sql queries to meet the objective "
   ]
  },
  {
   "cell_type": "markdown",
   "id": "1073fc90",
   "metadata": {
    "id": "1073fc90"
   },
   "source": [
    "## <font color='blue'> Problem Statement </font>\n",
    "###  An E-commerce website manages its data in the form of various tables.\n",
    "You need to create a Database called `e_commerce` and various tables in it. The tables needed and attributes which need to be in every table are given before hand. All you have to do is create tables with data in it and answer some of the questions that follows."
   ]
  },
  {
   "cell_type": "markdown",
   "id": "48787355",
   "metadata": {
    "id": "48787355"
   },
   "source": [
    "### e_commerce Schema:"
   ]
  },
  {
   "cell_type": "markdown",
   "id": "78938fbc",
   "metadata": {
    "id": "78938fbc"
   },
   "source": [
    "[e_commerce_schema-1 (1).png](attachment:e_commerce_schema-1 (1).png)"
   ]
  },
  {
   "cell_type": "markdown",
   "id": "d9abe6c7",
   "metadata": {
    "id": "d9abe6c7"
   },
   "source": [
    "### Load Required Libraries"
   ]
  },
  {
   "cell_type": "code",
   "execution_count": null,
   "id": "0178d08e",
   "metadata": {
    "id": "0178d08e"
   },
   "outputs": [],
   "source": [
    "import mysql.connector\n",
    "import pandas as pd"
   ]
  },
  {
   "cell_type": "markdown",
   "id": "d7d7fd5c",
   "metadata": {
    "id": "d7d7fd5c"
   },
   "source": [
    "### Connect to DB using Mysql-connector-python package"
   ]
  },
  {
   "cell_type": "code",
   "execution_count": null,
   "id": "ef7bef72",
   "metadata": {
    "id": "ef7bef72"
   },
   "outputs": [],
   "source": [
    "import mysql.connector\n",
    "  \n",
    "connection = mysql.connector.connect(host =\"localhost\",\n",
    "                                    user =\"root\",\n",
    "                                    passwd =\"123456\")\n",
    " \n",
    "print(connection)\n",
    "  \n",
    "## closing the connection\n",
    "connection.close()"
   ]
  },
  {
   "cell_type": "markdown",
   "id": "9d55e510",
   "metadata": {
    "id": "9d55e510"
   },
   "source": [
    "### You are required to create a database named 'e_commerce'"
   ]
  },
  {
   "cell_type": "code",
   "execution_count": null,
   "id": "42a154f2",
   "metadata": {
    "id": "42a154f2"
   },
   "outputs": [],
   "source": [
    "## Lets make a connection to Mysql server and perform some operations\n",
    "connection = mysql.connector.connect(host =\"localhost\",\n",
    "                                     user =\"root\",\n",
    "                                     passwd =\"123456\")\n",
    " \n",
    "## creating a cursor object\n",
    "cursorObject = connection.cursor()\n",
    " \n",
    "## creating database\n",
    "cursorObject.execute(\"CREATE DATABASE e_commerce\")"
   ]
  },
  {
   "cell_type": "code",
   "execution_count": null,
   "id": "3812a885",
   "metadata": {},
   "outputs": [],
   "source": [
    "## Lets make a connection to Mysql server and perform some operations\n",
    "connection = mysql.connector.connect(host =\"localhost\",\n",
    "                                     user =\"root\",\n",
    "                                     passwd =\"123456\")\n",
    " \n",
    "## creating a cursor object\n",
    "cursorObject = connection.cursor()"
   ]
  },
  {
   "cell_type": "markdown",
   "id": "480dc986",
   "metadata": {
    "id": "480dc986"
   },
   "source": [
    "### Q1. Create tables for supplier, customer, category, product, productDetails, order, rating to store the data for the E-commerce with the schema definition given below.\n",
    "\n",
    "\n",
    "- **`supplier`**(SUPP_ID int primary key, SUPP_NAME varchar(50), SUPP_CITY varchar(50), SUPP_PHONE varchar(10))\n",
    "\n",
    "\n",
    "- **`customer`** (CUS_ID INT NOT NULL, CUS_NAME VARCHAR(20) NULL DEFAULT NULL, CUS_PHONE VARCHAR(10), CUS_CITY varchar(30) ,CUS_GENDER CHAR,PRIMARY KEY (CUS_ID))\n",
    "\n",
    "\n",
    "- **`category`** (CAT_ID INT NOT NULL, CAT_NAME VARCHAR(20) NULL DEFAULT NULL,PRIMARY KEY (CAT_ID))\n",
    "\n",
    "\n",
    "- **`product`** (PRO_ID INT NOT NULL, PRO_NAME VARCHAR(20) NULL DEFAULT NULL, PRO_DESC VARCHAR(60) NULL DEFAULT NULL, CAT_ID INT NOT NULL,PRIMARY KEY (PRO_ID),FOREIGN KEY (CAT_ID) REFERENCES CATEGORY (CAT_ID))\n",
    "\n",
    "\n",
    "- **`product_details`** (PROD_ID INT NOT NULL, PRO_ID INT NOT NULL, SUPP_ID INT NOT NULL, PROD_PRICE INT NOT NULL,\n",
    "  PRIMARY KEY (PROD_ID),FOREIGN KEY (PRO_ID) REFERENCES PRODUCT (PRO_ID), FOREIGN KEY (SUPP_ID) REFERENCES SUPPLIER(SUPP_ID))\n",
    "  \n",
    "  \n",
    "- **`order`** (ORD_ID INT NOT NULL, ORD_AMOUNT INT NOT NULL, ORD_DATE DATE, CUS_ID INT NOT NULL, PROD_ID INT NOT NULL,PRIMARY KEY (ORD_ID),FOREIGN KEY (CUS_ID) REFERENCES CUSTOMER(CUS_ID),FOREIGN KEY (PROD_ID) REFERENCES PRODUCT_DETAILS(PROD_ID))\n",
    "\n",
    "\n",
    "- **`rating`** (RAT_ID INT NOT NULL, CUS_ID INT NOT NULL, SUPP_ID INT NOT NULL, RAT_RATSTARS INT NOT NULL,PRIMARY KEY (RAT_ID),FOREIGN KEY (SUPP_ID) REFERENCES SUPPLIER (SUPP_ID),FOREIGN KEY (CUS_ID) REFERENCES CUSTOMER(CUS_ID))"
   ]
  },
  {
   "cell_type": "code",
   "execution_count": null,
   "id": "967b718f",
   "metadata": {
    "id": "967b718f"
   },
   "outputs": [],
   "source": [
    "## Lets make a connection to Mysql server and perform some operations\n",
    "connection = mysql.connector.connect(host =\"localhost\",\n",
    "                                     user =\"root\",\n",
    "                                     passwd =\"123456\",\n",
    "                                     database = \"e_commerce\")\n",
    " \n",
    "## creating a cursor object\n",
    "cursorObject = connection.cursor()"
   ]
  },
  {
   "cell_type": "code",
   "execution_count": null,
   "id": "b04be0c6",
   "metadata": {},
   "outputs": [],
   "source": [
    "## Create a table for supplier \n",
    "suppliers = \"\"\"create table suppliers (SUPP_ID int primary key, SUPP_NAME varchar(50), SUPP_CITY varchar(50),\n",
    "            SUPP_PHONE varchar(15))\"\"\" \n",
    "\n",
    "cursorObject.execute(suppliers)"
   ]
  },
  {
   "cell_type": "code",
   "execution_count": null,
   "id": "83389ee6",
   "metadata": {},
   "outputs": [],
   "source": [
    "## Create a table for customer\n",
    "customer=\"\"\"create table customer (CUS_ID INT NOT NULL, CUS_NAME VARCHAR(20) NULL DEFAULT NULL, \n",
    "            CUS_PHONE VARCHAR(10), CUS_CITY varchar(30) ,CUS_GENDER CHAR,PRIMARY KEY (CUS_ID))\"\"\" \n",
    "\n",
    "cursorObject.execute(customer)"
   ]
  },
  {
   "cell_type": "code",
   "execution_count": null,
   "id": "e8c3c7eb",
   "metadata": {},
   "outputs": [],
   "source": [
    "## Create a table for \n",
    "category=\"\"\"create table category (CAT_ID INT NOT NULL, CAT_NAME VARCHAR(20) NULL DEFAULT NULL,PRIMARY KEY (CAT_ID))\"\"\" \n",
    "\n",
    "cursorObject.execute(category)"
   ]
  },
  {
   "cell_type": "code",
   "execution_count": null,
   "id": "cd1feb31",
   "metadata": {},
   "outputs": [],
   "source": [
    "## Create a table for rating\n",
    "rating =\"\"\"create table rating  (RAT_ID INT NOT NULL, CUS_ID INT NOT NULL, SUPP_ID INT NOT NULL, RAT_RATSTARS INT NOT NULL,\n",
    "        PRIMARY KEY (RAT_ID),FOREIGN KEY (SUPP_ID) REFERENCES SUPPLIER (SUPP_ID),FOREIGN KEY (CUS_ID) \n",
    "        REFERENCES CUSTOMER(CUS_ID))\"\"\"\n",
    "\n",
    "cursorObject.execute(rating)"
   ]
  },
  {
   "cell_type": "code",
   "execution_count": null,
   "id": "60da557c",
   "metadata": {},
   "outputs": [],
   "source": [
    "## Create a table for product\n",
    "product = \"\"\"create table product (PRO_ID INT NOT NULL, PRO_NAME VARCHAR(20) NULL DEFAULT NULL, \n",
    "            PRO_DESC VARCHAR(60) NULL DEFAULT NULL, CAT_ID INT NOT NULL,PRIMARY KEY (PRO_ID),\n",
    "            FOREIGN KEY (CAT_ID) REFERENCES CATEGORY (CAT_ID))\"\"\"\n",
    "cursorObject.execute(product)"
   ]
  },
  {
   "cell_type": "code",
   "execution_count": null,
   "id": "dd13f3da",
   "metadata": {},
   "outputs": [],
   "source": [
    "## Create a table for product_details\n",
    "product_details=\"\"\"create table product_details  (PROD_ID INT NOT NULL, PRO_ID INT NOT NULL, SUPP_ID INT NOT NULL,\n",
    "            PROD_PRICE INT NOT NULL, PRIMARY KEY (PROD_ID),FOREIGN KEY (PRO_ID) REFERENCES PRODUCT (PRO_ID), \n",
    "            FOREIGN KEY (SUPP_ID) REFERENCES SUPPLIERS(SUPP_ID))\"\"\"\n",
    "cursorObject.execute(product_details)\n"
   ]
  },
  {
   "cell_type": "code",
   "execution_count": null,
   "id": "4ee4cfa3",
   "metadata": {},
   "outputs": [],
   "source": [
    "## Create a table for orders\n",
    "orders=\"\"\"create table orders (ORD_ID INT NOT NULL, ORD_AMOUNT INT NOT NULL, ORD_DATE DATE, CUS_ID INT NOT NULL, \n",
    "        PROD_ID INT NOT NULL,PRIMARY KEY (ORD_ID),FOREIGN KEY (CUS_ID) REFERENCES CUSTOMER(CUS_ID),\n",
    "        FOREIGN KEY (PROD_ID) REFERENCES PRODUCT_DETAILS(PROD_ID))\"\"\"\n",
    "cursorObject.execute(orders)"
   ]
  },
  {
   "cell_type": "code",
   "execution_count": null,
   "id": "a1e6dcaf",
   "metadata": {},
   "outputs": [],
   "source": [
    "## Create a table for rating\n",
    "rating =\"\"\"create table rating  (RAT_ID INT NOT NULL, CUS_ID INT NOT NULL, SUPP_ID INT NOT NULL, \n",
    "        RAT_RATSTARS INT NOT NULL,PRIMARY KEY (RAT_ID),FOREIGN KEY (SUPP_ID) REFERENCES SUPPLIERS (SUPP_ID),\n",
    "        FOREIGN KEY (CUS_ID) REFERENCES CUSTOMER(CUS_ID))\"\"\"\n",
    "cursorObject.execute(rating)"
   ]
  },
  {
   "cell_type": "markdown",
   "id": "1f653731",
   "metadata": {
    "id": "1f653731"
   },
   "source": [
    "### Q2. Insert the following data in the table created above\n",
    "#### `Note:` If you are getting any error while inserting the data into tables, Kindly close the connection and reconnect\n",
    "\n",
    "#### Table:  supplier\n",
    "| SUPP_ID | SUPP_NAME | SUPP_CITY | SUPP_PHONE |\n",
    "| --- | --- | --- | --- | \n",
    "| 1 | Rajesh Retails | Delhi | 1234567890 |\n",
    "| 2 | Appario Ltd. | Mumbai | 258963147032 | \n",
    "| 3 | Knome products | Bangalore | 9785462315 |\n",
    "| 4 | Bansal Retails | Kochi | 8975463285 |\n",
    "| 5 | Mittal Ltd. | Lucknow | 7898456532 |"
   ]
  },
  {
   "cell_type": "code",
   "execution_count": null,
   "id": "f6dddd07",
   "metadata": {
    "id": "f6dddd07"
   },
   "outputs": [],
   "source": [
    "# insert into \"supplier\" table\n",
    "insert_suppliers_details = \"\"\"insert into suppliers(SUPP_ID, SUPP_NAME, SUPP_CITY, SUPP_PHONE) \n",
    "                            values (%s,%s,%s,%s)\"\"\"\n",
    "\n",
    "val = [(1,\"Rajesh Retails\",\"Delhi\",\"1234567890\"),\n",
    "       (2,\"Appario Ltd\",\"Mumbai\", \"258963147032\"),\n",
    "       (3,\"Knome products\",\"Bangalore\",\"9785462315\"),\n",
    "       (4,\"Bansal Retails\",\"Kochi\",\"8975463285\"),\n",
    "       (5,\"Mittal Ltd\",\"Lucknow\",\"7898456532\")]\n",
    "\n",
    "cursorObject.executemany(insert_suppliers_details, val)\n",
    "connection.commit()"
   ]
  },
  {
   "cell_type": "markdown",
   "id": "e8a070a6",
   "metadata": {
    "id": "e8a070a6"
   },
   "source": [
    "#### Table:  customer\n",
    "| CUS_ID | CUS_NAME | SUPP_PHONE | CUS_CITY | CUS_GENDER\n",
    "| --- | --- | --- | --- | --- |\n",
    "| 1 | AAKASH | 9999999999 | DELHI | M |\n",
    "| 2 | AMAN | 9785463215 | NOIDA | M |\n",
    "| 3 | NEHA | 9999999998 | MUMBAI | F |\n",
    "| 4 | MEGHA | 9994562399 | KOLKATA | F |\n",
    "| 5 | PULKIT | 7895999999 | LUCKNOW | M |"
   ]
  },
  {
   "cell_type": "code",
   "execution_count": null,
   "id": "15a4ee87",
   "metadata": {
    "id": "15a4ee87"
   },
   "outputs": [],
   "source": [
    "# insert into \"customer\" table\n",
    "insert_query=\"insert into customer (CUS_ID,CUS_NAME, CUS PHONE,CUS CITY, CUS_GENDER) values (%s, %s, %s,%s,%s)\"\n",
    "val = [(1, \"AAKASH\", \"9999999999\", \"DELHI\",\"M\"),\n",
    "       (2, \"AMAN\",\"9785463215\", \"NOIDA\",\"M\"),\n",
    "       (3, \"NEHA\", \"9999999998\", \"MUMBAI\",\"F\"),\n",
    "       (4,\"MEGHA\", \"9994562399\", \"KOLKATA\",\"F\"),\n",
    "       (5, \"PULKIT\",\"7895999999\", \"LUCKNOW\",\"M\")]\n",
    "\n",
    "cursorObject.executemany (insert_query,val) \n",
    "connection.commit()"
   ]
  },
  {
   "cell_type": "markdown",
   "id": "b68bfbc2",
   "metadata": {
    "id": "b68bfbc2"
   },
   "source": [
    "#### Table:  category\n",
    "| CAT_ID | CAT_NAME | \n",
    "| --- | --- |  \n",
    "| 1 | BOOKS |\n",
    "| 2 | GAMES |  \n",
    "| 3 | GROCERIES | \n",
    "| 4 | ELECTRONICS | \n",
    "| 5 | CLOTHES | "
   ]
  },
  {
   "cell_type": "code",
   "execution_count": null,
   "id": "05a00abc",
   "metadata": {
    "id": "05a00abc"
   },
   "outputs": [],
   "source": [
    "# insert into \"categoty\" table\n",
    "insert_query=\"insert into customer (CAT_ID, CAT_NAME) values (%s, %s)\"\n",
    "val = [(1, \"BOOKS\"), (2, \"GAMES\"), (3, \"GROCERIES\"), (4,\"ELECTRONICS\"), (5, \"CLOTHES\")]\n",
    "\n",
    "cursorObject.executemany (insert_query,val) \n",
    "connection.commit()"
   ]
  },
  {
   "cell_type": "markdown",
   "id": "eb3bc592",
   "metadata": {
    "id": "eb3bc592"
   },
   "source": [
    "#### Table:  product\n",
    "| PRO_ID | PRO_NAME | PRO_DESC | CAT_ID |\n",
    "| --- | --- | --- | --- | \n",
    "| 1 | GTA V | DFJDJFDJFDJFDJFJF | 2 |\n",
    "| 2 | TSHIRT | DFDFJDFJDKFD | 5 | \n",
    "| 3 | ROG LAPTOP | DFNTTNTNTERND | 4 |\n",
    "| 4 | OATS | REURENTBTOTH | 3 |\n",
    "| 5 | HARRY POTTER | NBEMCTHTJTH | 1 |\n"
   ]
  },
  {
   "cell_type": "code",
   "execution_count": null,
   "id": "cdfbdfad",
   "metadata": {
    "id": "cdfbdfad"
   },
   "outputs": [],
   "source": [
    "# insert into \"product\" table\n",
    "insert_query= \"insert into orders (PRO_ID, PRO_NAME, PRO_DESC, CAT_ID) values (%s, %s, %s, %s)\"\n",
    "val =  [(1,\"GTA V\",\"DFJDJFDJFDJFDJFJF\",2),\n",
    "        (2,\"TSHIRT\",\"DFDFJDFJDKFD\",5),\n",
    "        (3,\"ROG LAPTOP\",\"DFNTTNTNTERND\",4),\n",
    "        (4,\"OATS\",\"REURENTBTOTH\",3),\n",
    "        (5,\"HARRY POTTER\",\"NBEMCTHTJTH\",1)]\n",
    "\n",
    "cursorObject.executemany (insert_query,val)\n",
    "connection.commit()"
   ]
  },
  {
   "cell_type": "markdown",
   "id": "cfa8a47d",
   "metadata": {
    "id": "cfa8a47d"
   },
   "source": [
    "#### Table:  product_details\n",
    "| PROD_ID | PRO_ID | SUPP_ID | PROD_PRICE |\n",
    "| --- | --- | --- | --- | \n",
    "| 1 | 1 | 2 | 1500 |\n",
    "| 2 | 3 | 5 | 30000 | \n",
    "| 3 | 5 | 1 | 3000 |\n",
    "| 4 | 2 | 3 | 2500 |\n",
    "| 5 | 4 | 1 | 1000 |"
   ]
  },
  {
   "cell_type": "code",
   "execution_count": null,
   "id": "c18ea964",
   "metadata": {
    "id": "c18ea964"
   },
   "outputs": [],
   "source": [
    "# insert into \"product_details\" table\n",
    "insert_query= \"insert into orders (PROD_ID,PRO_ID,SUPP_ID,PROD_PRICE) values (%s, %s, %s, %s)\"\n",
    "val =  [(1,1,2,1500), (2,3,5,30000),(3,5,1,300),(4,2,3,2500),(5,4,1,1000)]\n",
    "\n",
    "cursorObject.executemany (insert_query,val)\n",
    "connection.commit()"
   ]
  },
  {
   "cell_type": "markdown",
   "id": "1df49086",
   "metadata": {
    "id": "1df49086"
   },
   "source": [
    "#### Table:  orders\n",
    "| ORD_ID | ORD_AMOUNT | ORD_DATE | CUS_ID | PROD_ID\n",
    "| --- | --- | --- | --- | --- |\n",
    "| 20 | 1500 | 2021-10-12 | 3 | 5 |\n",
    "| 25 | 30500 | 2021-09-16 | 5 | 2 |\n",
    "| 26 | 2000 | 2021-10-05 | 1 | 1 |\n",
    "| 30 | 3500 | 2021-08-16 | 4 | 3 |\n",
    "| 50 | 2000 | 2021-10-06 | 2 | 1 |"
   ]
  },
  {
   "cell_type": "code",
   "execution_count": null,
   "id": "0d97dc92",
   "metadata": {
    "id": "0d97dc92"
   },
   "outputs": [],
   "source": [
    "# insert into \"orders\" table\n",
    "insert_query= \"insert into orders (ORD_ID, ORD_AMOUNT, ORD_DATE, CUS_ID, PROD_ID) values (%s, %s, %s, %s, %s)\"\n",
    "val =  [(20,1500,\"2021-10-12\",3,5),\n",
    "        (25, 30500,\"2021-09-16\",5,2),\n",
    "        (26, 2000, \"2021-10-05\",1,1),\n",
    "        (30,3500, \"2021-08-16\",4,3),\n",
    "        (50, 2000, \"2021-10-06\",2,1)]\n",
    "\n",
    "cursorObject.executemany (insert_query,val)\n",
    "connection.commit()"
   ]
  },
  {
   "cell_type": "markdown",
   "id": "75b8ce5f",
   "metadata": {
    "id": "75b8ce5f"
   },
   "source": [
    "#### Table: rating\n",
    "| RAT_ID | CUS_ID | SUPP_ID | RAT_RATSTARS |\n",
    "| --- | --- | --- | --- | \n",
    "| 1 | 2 | 2 | 4 |\n",
    "| 2 | 3 | 4 | 3 | \n",
    "| 3 | 5 | 1 | 5 |\n",
    "| 4 | 1 | 3 | 2 |\n",
    "| 5 | 4 | 5 | 4 |"
   ]
  },
  {
   "cell_type": "code",
   "execution_count": null,
   "id": "6d5f1e18",
   "metadata": {
    "id": "6d5f1e18"
   },
   "outputs": [],
   "source": [
    "# insert into \"rating\" table\n",
    "insert_query = \"insert into rating (RAT_ID, CUS_ID, SUPP_ID, RAT_RATSTARS) values (%s, %s, %s,%s)\"\n",
    "val [(1,2,2,4),\n",
    "     (2,3,4,3),\n",
    "     (3,5,1,5),\n",
    "     (4,1,3,2),\n",
    "     (5,4,5,4)]\n",
    "\n",
    "cursorObject.executemany (insert_query,val)"
   ]
  },
  {
   "cell_type": "markdown",
   "id": "b59361c3",
   "metadata": {
    "id": "b59361c3"
   },
   "source": [
    "### Q3) Display the number of the customer group by their genders who have placed any order of amount greater than or equal to Rs.3000."
   ]
  },
  {
   "cell_type": "code",
   "execution_count": null,
   "id": "fcafaf3c",
   "metadata": {
    "id": "fcafaf3c"
   },
   "outputs": [],
   "source": [
    "Query3=\"\"\"select customer.CUS_GENDER, count (customer.CUS GENDER) as count from customer inner join orders on customer.\n",
    "            CUS_ID= orders.CUS_ID where orders .ORD_AMOUNT=3000 group by customer.CUS_GENDER;\"\"\"\n",
    "\n",
    "cursorObject.execute(Query3)\n",
    "output = cursorobject.fetchall()\n",
    "\n",
    "output_df = pd.DataFrame(output, \n",
    "columns = ['CUS GENDER', 'COUNT']) \n",
    "output_df"
   ]
  },
  {
   "cell_type": "markdown",
   "id": "e49e04f5",
   "metadata": {
    "id": "e49e04f5"
   },
   "source": [
    "### Q4) Display all the order along with product name ordered by a customer having Customer_Id=2;"
   ]
  },
  {
   "cell_type": "code",
   "execution_count": null,
   "id": "9dcb7883",
   "metadata": {
    "id": "9dcb7883"
   },
   "outputs": [],
   "source": [
    "Query4=\"\"\"select orders.\",product. PRO_NAME from orders, product_details, product where `orders`.CUS_ID = 2 and \n",
    "orders .PROD_ID = product_details.PROD_ID and product_details. PRO_ID=product.PRO_ID\"\"\"\n",
    "\n",
    "cursorObject.execute(Query4)\n",
    "output cursorObject.fetchall()\n",
    "\n",
    "output_df = pd.DataFrame(output, columns = ['ORD_ID', 'ORD_AMOUNT', 'ORD_DATE', 'CUS_ID', 'PROD_ID', 'PRO_NAME'])\n",
    "output_df"
   ]
  },
  {
   "cell_type": "markdown",
   "id": "3a33398e",
   "metadata": {
    "id": "3a33398e"
   },
   "source": [
    "### Q5) Display the Supplier details who can supply more than one product."
   ]
  },
  {
   "cell_type": "code",
   "execution_count": null,
   "id": "e933b979",
   "metadata": {
    "id": "e933b979"
   },
   "outputs": [],
   "source": [
    "Query5=\"\"\"select suppliers.* from suppliers, product_details where suppliers.SUPP_ID in(select product_details. \n",
    "            SUPP_ID from product_details group by product_details.SUPP_ID having count (product_details. SUPP_ID)>1) \n",
    "            group by suppliers.SUPP_ID;\"\"\"\n",
    "\n",
    "cursorObject.execute(Query5)\n",
    "\n",
    "output = cursorobject.fetchall()\n",
    "output_df = pd.DataFrame(output, columns = ['SUPP_ID', 'SUPP_NAME', 'SUPP_CITY', 'SUPP_PHONE'])\n",
    "output_df"
   ]
  },
  {
   "cell_type": "markdown",
   "id": "5fd319ef",
   "metadata": {
    "id": "5fd319ef"
   },
   "source": [
    "### Q6) Find the category of the product whose order amount is minimum."
   ]
  },
  {
   "cell_type": "code",
   "execution_count": null,
   "id": "06f5cb51",
   "metadata": {
    "id": "06f5cb51"
   },
   "outputs": [],
   "source": [
    "Query6=\"\"\"select category.* from `orders inner join product_details on `orders. PROD_ID = product_details. \n",
    "        PROD_ID inner join product on product. PRO_ID = product_details. \n",
    "        PRO_ID inner join category on category.CAT_ID= product. CAT_ID having min (orders.ORD_AMOUNT);\"\"\"\n",
    "\n",
    "cursorObject.execute(Query6)\n",
    "\n",
    "output = cursorobject.fetchall()\n",
    "output_df = pd.DataFrame(output, columns = ['CAT_ID', 'CAT_NAME']) \n",
    "output_df"
   ]
  },
  {
   "cell_type": "markdown",
   "id": "107102d4",
   "metadata": {
    "id": "107102d4"
   },
   "source": [
    "### Q7) Display the Id and Name of the Product ordered after “2021-10-05”."
   ]
  },
  {
   "cell_type": "code",
   "execution_count": null,
   "id": "5d3fc7e8",
   "metadata": {
    "id": "5d3fc7e8"
   },
   "outputs": [],
   "source": [
    "Query7 = \"\"\"select product. PRO_ID, product. PRO_NAME from `orders inner join product_details on product_details. \n",
    "            PROD_ID=`orders.PROD_ID inner join product on product. PRO_ID=product_details. PRO_ID where orders.\n",
    "            ORD_DATE>\"2021-10-05\";\"\"\"\n",
    "\n",
    "cursorObject.execute(Query7)\n",
    "\n",
    "output = cursorobject.fetchall()\n",
    "output_df = pd.DataFrame(output, columns = ['PRO_ID', 'PRO_NAME']) \n",
    "output_df"
   ]
  },
  {
   "cell_type": "markdown",
   "id": "bdce7167",
   "metadata": {
    "id": "bdce7167"
   },
   "source": [
    "### Q8) Print the top 3 supplier name and id and rating on the basis of their rating along with the customer name who has given the rating."
   ]
  },
  {
   "cell_type": "code",
   "execution_count": null,
   "id": "fa0cbe44",
   "metadata": {
    "id": "fa0cbe44"
   },
   "outputs": [],
   "source": [
    "Query8=\"\"\"select suppliers.SUPP_ID, suppliers. SUPP_NAME, customer.CUS_NAME, rating.RAT_RATSTARS \n",
    "        from rating inner join suppliers on rating.SUPP_ID = suppliers.SUPP_ID inner join customer on rating.\n",
    "        CUS_ID = customer.CUS_ID order by rating. RAT_RATSTARS desc limit 3\"\"\"\n",
    "\n",
    "cursorObject.execute(Query8)\n",
    "\n",
    "output = cursorobject.fetchall()\n",
    "output_df = pd.DataFrame(output, columns = ['SUPP_ID', 'SUPP_NAME', 'CUS_NAME', 'RAT_RATSTARS'])\n",
    "output_df"
   ]
  },
  {
   "cell_type": "markdown",
   "id": "346ec2a1",
   "metadata": {
    "id": "346ec2a1"
   },
   "source": [
    "### Q9) Display customer name and gender whose names start or end with character 'A'."
   ]
  },
  {
   "cell_type": "code",
   "execution_count": null,
   "id": "e571b5fd",
   "metadata": {
    "id": "e571b5fd"
   },
   "outputs": [],
   "source": [
    "Query9=\"\"\"select customer.CUS_NAME, customer.CUS_GENDER from customer where customer.\n",
    "        CUS NAME like \"A\" or customer.CUS_NAME like \"A\";\"\"\"\n",
    "\n",
    "cursorObject.execute(Query9)\n",
    "\n",
    "output = cursorObject.fetchall()\n",
    "output_df = pd.DataFrame(output, columns = ['CUS_NAME', 'CUS_GENDER']) \n",
    "output_df"
   ]
  },
  {
   "cell_type": "markdown",
   "id": "d0b01f77",
   "metadata": {
    "id": "d0b01f77"
   },
   "source": [
    "### Q10) Display the total order amount of the male customers."
   ]
  },
  {
   "cell_type": "code",
   "execution_count": null,
   "id": "c3fa76e3",
   "metadata": {
    "id": "c3fa76e3"
   },
   "outputs": [],
   "source": [
    "Query10 =\"\"\"select sum(orders.ORD AMOUNT) as AMOUNT from orders inner join \n",
    "        customer on orders.CUS_ID = customer.CUS_ID where customer.CUS GENDER='M';\"\"\"\n",
    "\n",
    "cursorObject.execute(Query10)\n",
    "\n",
    "output = cursorobject.fetchall()\n",
    "output_df = pd.DataFrame(output, columns = ['AMOUNT']) \n",
    "output_df"
   ]
  },
  {
   "cell_type": "markdown",
   "id": "ff8a9971",
   "metadata": {
    "id": "ff8a9971"
   },
   "source": [
    "### Q11) Display all the Customers left outer join with  the orders"
   ]
  },
  {
   "cell_type": "code",
   "execution_count": null,
   "id": "a340c6d6",
   "metadata": {
    "id": "a340c6d6"
   },
   "outputs": [],
   "source": [
    "Query11=\"\"\"select * from customer left outer join orders on customer.CUS_ID = 'orders.CUS_ID;\"\"\"\n",
    "\n",
    "cursorObject.execute(Query11)\n",
    "\n",
    "output = cursorObject.fetchall()\n",
    "output_df\n",
    "\n",
    "pd.DataFrame(output, columns = ['CUS_ID', 'CUS_NAME', 'CUS PHONE', 'CUS CITY', 'CUS GENDER', \n",
    "                                'ORD_ID', 'ORD_AMOUNT', 'ORD_DATE', 'CUS_ID', 'PROD_ID'])\n",
    "output_df"
   ]
  },
  {
   "cell_type": "markdown",
   "id": "0a72afe3",
   "metadata": {
    "id": "0a72afe3"
   },
   "source": [
    "**NOTE:** Always close an open connection once you are done with the database operations"
   ]
  },
  {
   "cell_type": "markdown",
   "id": "8c88f479",
   "metadata": {
    "id": "8c88f479"
   },
   "source": [
    "## Happy Learning:)"
   ]
  }
 ],
 "metadata": {
  "colab": {
   "name": "Lab Session  -  E-Commerce.ipynb",
   "provenance": []
  },
  "kernelspec": {
   "display_name": "Python 3 (ipykernel)",
   "language": "python",
   "name": "python3"
  },
  "language_info": {
   "codemirror_mode": {
    "name": "ipython",
    "version": 3
   },
   "file_extension": ".py",
   "mimetype": "text/x-python",
   "name": "python",
   "nbconvert_exporter": "python",
   "pygments_lexer": "ipython3",
   "version": "3.11.2"
  }
 },
 "nbformat": 4,
 "nbformat_minor": 5
}
